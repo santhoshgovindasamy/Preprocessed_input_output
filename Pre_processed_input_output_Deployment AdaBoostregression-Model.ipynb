{
 "cells": [
  {
   "cell_type": "code",
   "execution_count": 1,
   "id": "b19f260a-a4fd-49b2-bc72-9e0974a24f11",
   "metadata": {},
   "outputs": [],
   "source": [
    "import pickle\n",
    "filename=\"AdaBoost_regression.sav\""
   ]
  },
  {
   "cell_type": "code",
   "execution_count": 2,
   "id": "7357be74-ae07-43fc-be82-5c884eac14a5",
   "metadata": {},
   "outputs": [
    {
     "data": {
      "text/plain": [
       "(    R&D Spend  Administration  Marketing Spend  State_Florida  State_New York\n",
       " 7   130298.13       145530.06        323876.68              1               0\n",
       " 14  119943.24       156547.42        256512.92              1               0\n",
       " 45    1000.23       124153.04          1903.93              0               1\n",
       " 48     542.05        51743.15             0.00              0               1\n",
       " 29   65605.48       153032.06        107138.38              0               1\n",
       " 15  114523.61       122616.84        261776.23              0               1\n",
       " 30   61994.48       115641.28         91131.24              1               0\n",
       " 32   63408.86       129219.61         46085.25              0               0\n",
       " 16   78013.11       121597.55        264346.06              0               0\n",
       " 42   23640.93        96189.63        148001.11              0               0\n",
       " 20   76253.86       113867.30        298664.47              0               0\n",
       " 43   15505.73       127382.30         35534.17              0               1\n",
       " 8   120542.52       148718.95        311613.29              0               1\n",
       " 13   91992.39       135495.07        252664.93              0               0\n",
       " 25   64664.71       139553.16        137962.62              0               0\n",
       " 5   131876.90        99814.71        362861.36              0               1\n",
       " 17   94657.16       145077.58        282574.31              0               1\n",
       " 40   28754.33       118546.05        172795.67              0               0\n",
       " 49       0.00       116983.80         45173.06              0               0\n",
       " 1   162597.70       151377.59        443898.53              0               0\n",
       " 12   93863.75       127320.38        249839.44              1               0\n",
       " 37   44069.95        51283.14        197029.42              0               0\n",
       " 24   77044.01        99281.34        140574.81              0               1\n",
       " 6   134615.46       147198.87        127716.82              0               0\n",
       " 23   67532.53       105751.03        304768.73              1               0\n",
       " 36   28663.76       127056.21        201126.82              1               0\n",
       " 21   78389.47       153773.43        299737.29              0               1\n",
       " 19   86419.70       153514.11             0.00              0               1\n",
       " 9   123334.88       108679.17        304981.62              0               0\n",
       " 39   38558.51        82982.09        174999.30              0               0\n",
       " 46    1315.46       115816.21        297114.46              1               0\n",
       " 3   144372.41       118671.85        383199.62              0               1\n",
       " 0   165349.20       136897.80        471784.10              0               1\n",
       " 47       0.00       135426.92             0.00              0               0\n",
       " 44   22177.74       154806.14         28334.72              0               0,\n",
       "     R&D Spend  Administration  Marketing Spend  State_Florida  State_New York\n",
       " 28   66051.52       182645.56        118148.20              1               0\n",
       " 11  100671.96        91790.61        249744.55              0               0\n",
       " 10  101913.08       110594.11        229160.95              1               0\n",
       " 41   27892.92        84710.77        164470.71              1               0\n",
       " 2   153441.51       101145.55        407934.54              1               0\n",
       " 27   72107.60       127864.55        353183.81              0               1\n",
       " 38   20229.59        65947.93        185265.10              0               1\n",
       " 31   61136.38       152701.92         88218.23              0               1\n",
       " 22   73994.56       122782.75        303319.26              1               0\n",
       " 4   142107.34        91391.77        366168.42              1               0\n",
       " 33   55493.95       103057.49        214634.81              1               0\n",
       " 35   46014.02        85047.44        205517.64              0               1\n",
       " 26   75328.87       144135.98        134050.07              1               0\n",
       " 34   46426.07       157693.92        210797.67              0               0\n",
       " 18   91749.16       114175.79        294919.57              1               0,\n",
       "        Profit\n",
       " 7   155752.60\n",
       " 14  132602.65\n",
       " 45   64926.08\n",
       " 48   35673.41\n",
       " 29  101004.64\n",
       " 15  129917.04\n",
       " 30   99937.59\n",
       " 32   97427.84\n",
       " 16  126992.93\n",
       " 42   71498.49\n",
       " 20  118474.03\n",
       " 43   69758.98\n",
       " 8   152211.77\n",
       " 13  134307.35\n",
       " 25  107404.34\n",
       " 5   156991.12\n",
       " 17  125370.37\n",
       " 40   78239.91\n",
       " 49   14681.40\n",
       " 1   191792.06\n",
       " 12  141585.52\n",
       " 37   89949.14\n",
       " 24  108552.04\n",
       " 6   156122.51\n",
       " 23  108733.99\n",
       " 36   90708.19\n",
       " 21  111313.02\n",
       " 19  122776.86\n",
       " 9   149759.96\n",
       " 39   81005.76\n",
       " 46   49490.75\n",
       " 3   182901.99\n",
       " 0   192261.83\n",
       " 47   42559.73\n",
       " 44   65200.33,\n",
       "        Profit\n",
       " 28  103282.38\n",
       " 11  144259.40\n",
       " 10  146121.95\n",
       " 41   77798.83\n",
       " 2   191050.39\n",
       " 27  105008.31\n",
       " 38   81229.06\n",
       " 31   97483.56\n",
       " 22  110352.25\n",
       " 4   166187.94\n",
       " 33   96778.92\n",
       " 35   96479.51\n",
       " 26  105733.54\n",
       " 34   96712.80\n",
       " 18  124266.90)"
      ]
     },
     "execution_count": 2,
     "metadata": {},
     "output_type": "execute_result"
    }
   ],
   "source": [
    "import pandas as pd\n",
    "dataset=pd.read_csv(\"50_Startups.csv\")\n",
    "dataset=pd.get_dummies(dataset,dtype=int,drop_first=True,)\n",
    "independent=dataset[['R&D Spend', 'Administration', 'Marketing Spend','State_Florida', 'State_New York']]\n",
    "dependent=dataset[[\"Profit\"]]\n",
    "from sklearn.model_selection import train_test_split\n",
    "X_train,X_test,Y_train,Y_test=train_test_split(independent,dependent,test_size=0.3,random_state=0)\n",
    "X_train,X_test,Y_train,Y_test"
   ]
  },
  {
   "cell_type": "code",
   "execution_count": 3,
   "id": "7b55f120-18a7-4567-b6d7-0bcec22568a6",
   "metadata": {},
   "outputs": [],
   "source": [
    "from sklearn.preprocessing import StandardScaler\n",
    "sc=StandardScaler()\n",
    "X_train=sc.fit_transform(X_train)\n",
    "X_test=sc.transform(X_test)\n",
    "\n",
    "scy=StandardScaler()\n",
    "Y_train=scy.fit_transform(Y_train)\n",
    "Y_test=scy.transform(Y_test)"
   ]
  },
  {
   "cell_type": "code",
   "execution_count": 4,
   "id": "0895dc6f-2b6e-4c0c-b585-8e2502677bec",
   "metadata": {},
   "outputs": [
    {
     "name": "stderr",
     "output_type": "stream",
     "text": [
      "C:\\Users\\LENOVO\\anaconda3\\Lib\\site-packages\\sklearn\\base.py:493: UserWarning: X does not have valid feature names, but StandardScaler was fitted with feature names\n",
      "  warnings.warn(\n"
     ]
    },
    {
     "data": {
      "text/plain": [
       "array([[187347.025]])"
      ]
     },
     "execution_count": 4,
     "metadata": {},
     "output_type": "execute_result"
    }
   ],
   "source": [
    "#loading the saved model(read binary mode) and testing it \n",
    "load_model=pickle.load(open(filename,'rb'))\n",
    "input_data=[[162597.70,151377.59,443898.53,0,0]]\n",
    "pre_input=sc.transform(input_data)\n",
    "result=load_model.predict(pre_input)\n",
    "result\n",
    "pre_result=scy.inverse_transform([result])\n",
    "pre_result\n",
    "#actual result 191792.06\n"
   ]
  },
  {
   "cell_type": "code",
   "execution_count": null,
   "id": "e9beb642-c242-40df-a38a-351935832592",
   "metadata": {},
   "outputs": [],
   "source": []
  },
  {
   "cell_type": "code",
   "execution_count": null,
   "id": "e9808077-bda8-4326-99f6-1c7a40e97102",
   "metadata": {},
   "outputs": [],
   "source": []
  }
 ],
 "metadata": {
  "kernelspec": {
   "display_name": "Python 3 (ipykernel)",
   "language": "python",
   "name": "python3"
  },
  "language_info": {
   "codemirror_mode": {
    "name": "ipython",
    "version": 3
   },
   "file_extension": ".py",
   "mimetype": "text/x-python",
   "name": "python",
   "nbconvert_exporter": "python",
   "pygments_lexer": "ipython3",
   "version": "3.12.4"
  }
 },
 "nbformat": 4,
 "nbformat_minor": 5
}
